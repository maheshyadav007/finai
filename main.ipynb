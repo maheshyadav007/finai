{
 "cells": [
  {
   "cell_type": "markdown",
   "id": "948bfbe7",
   "metadata": {},
   "source": [
    "# Strategies\n",
    "\n",
    "1. can crossover become entry, mid of risk, SL?\n",
    "\n"
   ]
  },
  {
   "cell_type": "markdown",
   "id": "1e27e7d4",
   "metadata": {},
   "source": [
    "## TODOS\n",
    "\n",
    "1. after getting the signal at what price we are taking the trade? it should take only if market returns to that price."
   ]
  },
  {
   "cell_type": "markdown",
   "id": "629f9b3c",
   "metadata": {},
   "source": [
    "## Best Results\n",
    "\n",
    "Strategy_ID  Total_Return  Final_Capital  Sharpe_Ratio   Win_Rate  Max_Drawdown  Total_Trades\n",
    "12  rsi_5min_fast20_slow50_rsi14_30_70_lev10_risk2...    359.794108     919.588216      0.274909  34.482759    -62.163154           522\n",
    "8   rsi_5min_fast9_slow50_rsi14_30_70_lev10_risk2....    359.794108     919.588216      0.274909  34.482759    -62.163154           522\n",
    "13  rsi_5min_fast20_slow100_rsi14_30_70_lev10_risk...    357.114476     914.228953      0.275016  34.423077    -62.163154           520\n",
    "9   rsi_5min_fast9_slow100_rsi14_30_70_lev10_risk2...    357.114476     914.228953      0.275016  34.423077    -62.163154           520\n",
    "6    sma_5min_fast20_slow50_lev10_risk2.0_pos80_tp6.0    310.186334     820.372667      0.319931  35.220126    -54.623939           159"
   ]
  },
  {
   "cell_type": "code",
   "execution_count": 1,
   "id": "44d4e35e",
   "metadata": {},
   "outputs": [],
   "source": [
    "import pandas as pd\n",
    "import numpy as np"
   ]
  },
  {
   "cell_type": "code",
   "execution_count": 2,
   "id": "4769c0fe",
   "metadata": {},
   "outputs": [],
   "source": [
    "df = pd.read_csv('detailed_results/best_return_sma_15min_fast9_slow50_lev10_risk2.0_pos100_tp10.0_detailed.csv')\n"
   ]
  },
  {
   "cell_type": "code",
   "execution_count": 8,
   "id": "84156de8",
   "metadata": {},
   "outputs": [],
   "source": [
    "total_trades = df['Trade_Id'].nunique()"
   ]
  },
  {
   "cell_type": "code",
   "execution_count": 10,
   "id": "dbb72ff2",
   "metadata": {},
   "outputs": [],
   "source": [
    "successful_trades = len(df[df['Trade_Result'] == 1])"
   ]
  },
  {
   "cell_type": "code",
   "execution_count": 11,
   "id": "833fdc52",
   "metadata": {},
   "outputs": [
    {
     "data": {
      "text/plain": [
       "25.165562913907287"
      ]
     },
     "execution_count": 11,
     "metadata": {},
     "output_type": "execute_result"
    }
   ],
   "source": [
    "successful_trades/total_trades*100"
   ]
  }
 ],
 "metadata": {
  "kernelspec": {
   "display_name": "finai",
   "language": "python",
   "name": "python3"
  },
  "language_info": {
   "codemirror_mode": {
    "name": "ipython",
    "version": 3
   },
   "file_extension": ".py",
   "mimetype": "text/x-python",
   "name": "python",
   "nbconvert_exporter": "python",
   "pygments_lexer": "ipython3",
   "version": "3.12.7"
  }
 },
 "nbformat": 4,
 "nbformat_minor": 5
}
